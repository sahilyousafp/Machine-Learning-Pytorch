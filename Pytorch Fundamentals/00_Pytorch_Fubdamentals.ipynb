{
  "nbformat": 4,
  "nbformat_minor": 0,
  "metadata": {
    "colab": {
      "provenance": [],
      "gpuType": "T4"
    },
    "kernelspec": {
      "name": "python3",
      "display_name": "Python 3"
    },
    "language_info": {
      "name": "python"
    },
    "accelerator": "GPU"
  },
  "cells": [
    {
      "cell_type": "code",
      "source": [
        "import torch\n",
        "import pandas as pd\n",
        "import numpy as np\n",
        "import matplotlib.pyplot as plt\n",
        "print(torch.__version__)"
      ],
      "metadata": {
        "id": "pST8GQWwwDTW",
        "colab": {
          "base_uri": "https://localhost:8080/"
        },
        "outputId": "363c270b-2c41-4bc4-f8c9-230c5c82633f"
      },
      "execution_count": null,
      "outputs": [
        {
          "output_type": "stream",
          "name": "stdout",
          "text": [
            "2.6.0+cu124\n"
          ]
        }
      ]
    },
    {
      "cell_type": "markdown",
      "source": [
        "Tensor:Scalar"
      ],
      "metadata": {
        "id": "_REOXn88NVd1"
      }
    },
    {
      "cell_type": "code",
      "source": [
        "scalar =torch.tensor(7)\n",
        "scalar"
      ],
      "metadata": {
        "id": "NkdZZU-CwDP6",
        "colab": {
          "base_uri": "https://localhost:8080/"
        },
        "outputId": "a043effb-69ae-4c1a-a2c8-709b0caecd08"
      },
      "execution_count": null,
      "outputs": [
        {
          "output_type": "execute_result",
          "data": {
            "text/plain": [
              "tensor(7)"
            ]
          },
          "metadata": {},
          "execution_count": 2
        }
      ]
    },
    {
      "cell_type": "code",
      "source": [
        "scalar.ndim"
      ],
      "metadata": {
        "id": "U1XwsXS5wDNj",
        "colab": {
          "base_uri": "https://localhost:8080/"
        },
        "outputId": "12e6087e-b2a2-4933-8dc7-3385db7f2f0d"
      },
      "execution_count": null,
      "outputs": [
        {
          "output_type": "execute_result",
          "data": {
            "text/plain": [
              "0"
            ]
          },
          "metadata": {},
          "execution_count": 3
        }
      ]
    },
    {
      "cell_type": "code",
      "source": [
        "scalar.item()"
      ],
      "metadata": {
        "id": "VwJDM6P-wDK1",
        "colab": {
          "base_uri": "https://localhost:8080/"
        },
        "outputId": "4fabd815-02e9-434d-fdc8-55f9057e4808"
      },
      "execution_count": null,
      "outputs": [
        {
          "output_type": "execute_result",
          "data": {
            "text/plain": [
              "7"
            ]
          },
          "metadata": {},
          "execution_count": 4
        }
      ]
    },
    {
      "cell_type": "markdown",
      "source": [
        "Random image size tensor"
      ],
      "metadata": {
        "id": "UFVN88EDwDIT"
      }
    },
    {
      "cell_type": "code",
      "source": [
        "random_img_tensor = torch.rand(size=(224,224,3))\n",
        "random_img_tensor.shape,random_img_tensor.ndim"
      ],
      "metadata": {
        "id": "e5R0w5bVwDFo",
        "colab": {
          "base_uri": "https://localhost:8080/"
        },
        "outputId": "57bd4a5b-5f9a-47bf-b42a-260e547c4b27"
      },
      "execution_count": null,
      "outputs": [
        {
          "output_type": "execute_result",
          "data": {
            "text/plain": [
              "(torch.Size([224, 224, 3]), 3)"
            ]
          },
          "metadata": {},
          "execution_count": 5
        }
      ]
    },
    {
      "cell_type": "markdown",
      "source": [
        "Tensor of zeros and ones"
      ],
      "metadata": {
        "id": "KbmK0INgwDDe"
      }
    },
    {
      "cell_type": "code",
      "source": [
        "zeros = torch.zeros(size=(3,4))\n",
        "zeros"
      ],
      "metadata": {
        "id": "ZRm-KzlPwDAp",
        "colab": {
          "base_uri": "https://localhost:8080/"
        },
        "outputId": "12ca4dc8-de5f-4e04-ffe1-956d7e6a7c47"
      },
      "execution_count": null,
      "outputs": [
        {
          "output_type": "execute_result",
          "data": {
            "text/plain": [
              "tensor([[0., 0., 0., 0.],\n",
              "        [0., 0., 0., 0.],\n",
              "        [0., 0., 0., 0.]])"
            ]
          },
          "metadata": {},
          "execution_count": 6
        }
      ]
    },
    {
      "cell_type": "code",
      "source": [
        "zeros.dtype"
      ],
      "metadata": {
        "id": "64ZG67UDwC-B",
        "colab": {
          "base_uri": "https://localhost:8080/"
        },
        "outputId": "4eb5286e-61ca-47d8-fdfc-b30c6f509d93"
      },
      "execution_count": null,
      "outputs": [
        {
          "output_type": "execute_result",
          "data": {
            "text/plain": [
              "torch.float32"
            ]
          },
          "metadata": {},
          "execution_count": 7
        }
      ]
    },
    {
      "cell_type": "markdown",
      "source": [
        "Torch ranges and tensor-like"
      ],
      "metadata": {
        "id": "7Itbod6Fn3fx"
      }
    },
    {
      "cell_type": "code",
      "source": [
        "torch.arange(0,10)"
      ],
      "metadata": {
        "id": "k1TzfBIFnqbr",
        "colab": {
          "base_uri": "https://localhost:8080/"
        },
        "outputId": "2ee91c44-25fa-4396-fdcd-f576fd06e68f"
      },
      "execution_count": null,
      "outputs": [
        {
          "output_type": "execute_result",
          "data": {
            "text/plain": [
              "tensor([0, 1, 2, 3, 4, 5, 6, 7, 8, 9])"
            ]
          },
          "metadata": {},
          "execution_count": 8
        }
      ]
    },
    {
      "cell_type": "code",
      "source": [
        "ten_to_range = torch.arange(start=10,end=250,step=5)"
      ],
      "metadata": {
        "id": "u1rORB_PwC7l"
      },
      "execution_count": null,
      "outputs": []
    },
    {
      "cell_type": "code",
      "source": [
        "ten_zeros = torch.zeros_like(input=ten_to_range)\n",
        "ten_zeros"
      ],
      "metadata": {
        "id": "jfzfrweMwC4i",
        "colab": {
          "base_uri": "https://localhost:8080/"
        },
        "outputId": "57c7c409-bde2-466e-bf57-23f64a4e9774"
      },
      "execution_count": null,
      "outputs": [
        {
          "output_type": "execute_result",
          "data": {
            "text/plain": [
              "tensor([0, 0, 0, 0, 0, 0, 0, 0, 0, 0, 0, 0, 0, 0, 0, 0, 0, 0, 0, 0, 0, 0, 0, 0,\n",
              "        0, 0, 0, 0, 0, 0, 0, 0, 0, 0, 0, 0, 0, 0, 0, 0, 0, 0, 0, 0, 0, 0, 0, 0])"
            ]
          },
          "metadata": {},
          "execution_count": 10
        }
      ]
    },
    {
      "cell_type": "code",
      "source": [
        "float_32_tensor = torch.tensor([3.0,6.0,9.0],dtype=None,device=None,requires_grad=False)\n",
        "float_32_tensor"
      ],
      "metadata": {
        "id": "aSL6gvrwwC17",
        "colab": {
          "base_uri": "https://localhost:8080/"
        },
        "outputId": "b3dd5d81-b29c-4c84-8042-a4254ea9f311"
      },
      "execution_count": null,
      "outputs": [
        {
          "output_type": "execute_result",
          "data": {
            "text/plain": [
              "tensor([3., 6., 9.])"
            ]
          },
          "metadata": {},
          "execution_count": 11
        }
      ]
    },
    {
      "cell_type": "code",
      "source": [
        "float16tensor = float_32_tensor.type(torch.float16)\n",
        "float16tensor"
      ],
      "metadata": {
        "id": "cH432M3twCzb",
        "colab": {
          "base_uri": "https://localhost:8080/"
        },
        "outputId": "f42079f8-07e3-4a6e-8dbb-1b695caab70d"
      },
      "execution_count": null,
      "outputs": [
        {
          "output_type": "execute_result",
          "data": {
            "text/plain": [
              "tensor([3., 6., 9.], dtype=torch.float16)"
            ]
          },
          "metadata": {},
          "execution_count": 12
        }
      ]
    },
    {
      "cell_type": "code",
      "source": [
        "some_tensor = torch.rand(3,4)\n",
        "some_tensor"
      ],
      "metadata": {
        "id": "skJTlHZOwCwq",
        "colab": {
          "base_uri": "https://localhost:8080/"
        },
        "outputId": "c412b2f6-caa6-413c-d723-4bf89422923f"
      },
      "execution_count": null,
      "outputs": [
        {
          "output_type": "execute_result",
          "data": {
            "text/plain": [
              "tensor([[0.6497, 0.0775, 0.4181, 0.5074],\n",
              "        [0.2591, 0.8097, 0.6733, 0.3142],\n",
              "        [0.5872, 0.4442, 0.6961, 0.4031]])"
            ]
          },
          "metadata": {},
          "execution_count": 13
        }
      ]
    },
    {
      "cell_type": "code",
      "source": [
        "transposed = some_tensor.T\n",
        "print(f'previous: {some_tensor.shape}')\n",
        "print(f'transposed: {transposed.shape}')"
      ],
      "metadata": {
        "colab": {
          "base_uri": "https://localhost:8080/"
        },
        "id": "JsIeaDmWM88K",
        "outputId": "c88c6a7d-d66c-40b6-9193-d3f6d0fd8778"
      },
      "execution_count": null,
      "outputs": [
        {
          "output_type": "stream",
          "name": "stdout",
          "text": [
            "previous: torch.Size([3, 4])\n",
            "transposed: torch.Size([4, 3])\n"
          ]
        }
      ]
    },
    {
      "cell_type": "code",
      "source": [
        "print(some_tensor)\n",
        "print(f\"Datatype of tensor: {some_tensor.dtype}\")\n",
        "print(f\"Shape of tensor: {some_tensor.shape}\")\n",
        "print(f\"Device tensor is on: {some_tensor.device}\")"
      ],
      "metadata": {
        "id": "U-tKC4DcwCuF",
        "colab": {
          "base_uri": "https://localhost:8080/"
        },
        "outputId": "b98ffa6d-b459-4117-bb78-3281439fcb52"
      },
      "execution_count": null,
      "outputs": [
        {
          "output_type": "stream",
          "name": "stdout",
          "text": [
            "tensor([[0.6497, 0.0775, 0.4181, 0.5074],\n",
            "        [0.2591, 0.8097, 0.6733, 0.3142],\n",
            "        [0.5872, 0.4442, 0.6961, 0.4031]])\n",
            "Datatype of tensor: torch.float32\n",
            "Shape of tensor: torch.Size([3, 4])\n",
            "Device tensor is on: cpu\n"
          ]
        }
      ]
    },
    {
      "cell_type": "markdown",
      "source": [
        "Manipulating Tensors\n",
        "\n",
        "Tensor operations include:\n",
        "1. Addition\n",
        "2. Substraction\n",
        "3. Division\n",
        "4. Multiplication\n",
        "5. Matrix multiplication"
      ],
      "metadata": {
        "id": "aIMMULAswCsE"
      }
    },
    {
      "cell_type": "code",
      "source": [
        "tensor = torch.tensor([1,2,3])\n",
        "tensor = tensor + 150"
      ],
      "metadata": {
        "id": "qGsUCe87wCpx"
      },
      "execution_count": null,
      "outputs": []
    },
    {
      "cell_type": "code",
      "source": [
        "tensor*10"
      ],
      "metadata": {
        "id": "yc9M8s4uwCnJ",
        "colab": {
          "base_uri": "https://localhost:8080/"
        },
        "outputId": "b79971a7-6b0d-48dd-e9d7-0ec5b44896b0"
      },
      "execution_count": null,
      "outputs": [
        {
          "output_type": "execute_result",
          "data": {
            "text/plain": [
              "tensor([1510, 1520, 1530])"
            ]
          },
          "metadata": {},
          "execution_count": 17
        }
      ]
    },
    {
      "cell_type": "code",
      "source": [
        "%%time\n",
        "value = 0\n",
        "for i in range(len(tensor)):\n",
        "  value += tensor[i] * tensor[i]\n",
        "print(value)"
      ],
      "metadata": {
        "id": "qCrXh5aEwCk2",
        "colab": {
          "base_uri": "https://localhost:8080/"
        },
        "outputId": "5a2c791c-3e3b-4339-9770-8a2376dd8b21"
      },
      "execution_count": null,
      "outputs": [
        {
          "output_type": "stream",
          "name": "stdout",
          "text": [
            "tensor(69314)\n",
            "CPU times: user 1.86 ms, sys: 0 ns, total: 1.86 ms\n",
            "Wall time: 3.48 ms\n"
          ]
        }
      ]
    },
    {
      "cell_type": "code",
      "source": [
        "%%time\n",
        "torch.matmul(tensor,tensor)"
      ],
      "metadata": {
        "id": "dfj7_mfLwCiW",
        "colab": {
          "base_uri": "https://localhost:8080/"
        },
        "outputId": "a459dc66-7ca4-4a73-a12a-b5a08fb94e79"
      },
      "execution_count": null,
      "outputs": [
        {
          "output_type": "stream",
          "name": "stdout",
          "text": [
            "CPU times: user 548 µs, sys: 964 µs, total: 1.51 ms\n",
            "Wall time: 10.4 ms\n"
          ]
        },
        {
          "output_type": "execute_result",
          "data": {
            "text/plain": [
              "tensor(69314)"
            ]
          },
          "metadata": {},
          "execution_count": 19
        }
      ]
    },
    {
      "cell_type": "markdown",
      "source": [
        "Tensor Aggregation\n",
        "\n",
        "Min Max Mean Sum"
      ],
      "metadata": {
        "id": "uRxsTwT74bjD"
      }
    },
    {
      "cell_type": "code",
      "source": [
        "x = torch.arange(5,100,10)\n",
        "x"
      ],
      "metadata": {
        "colab": {
          "base_uri": "https://localhost:8080/"
        },
        "id": "3RxepZK14bfn",
        "outputId": "8a3c3650-49dc-438d-b4f3-97714ac40419"
      },
      "execution_count": null,
      "outputs": [
        {
          "output_type": "execute_result",
          "data": {
            "text/plain": [
              "tensor([ 5, 15, 25, 35, 45, 55, 65, 75, 85, 95])"
            ]
          },
          "metadata": {},
          "execution_count": 20
        }
      ]
    },
    {
      "cell_type": "code",
      "source": [
        "torch.min(x)"
      ],
      "metadata": {
        "colab": {
          "base_uri": "https://localhost:8080/"
        },
        "id": "mrWZglR74bdM",
        "outputId": "b84c1774-8a78-489f-dbce-ccf004f3d4b8"
      },
      "execution_count": null,
      "outputs": [
        {
          "output_type": "execute_result",
          "data": {
            "text/plain": [
              "tensor(5)"
            ]
          },
          "metadata": {},
          "execution_count": 21
        }
      ]
    },
    {
      "cell_type": "code",
      "source": [
        "torch.mean(x.type(torch.float32))"
      ],
      "metadata": {
        "colab": {
          "base_uri": "https://localhost:8080/"
        },
        "id": "icJZEap_4bac",
        "outputId": "e3fe1e61-f3fc-417e-e476-f9cba671bedf"
      },
      "execution_count": null,
      "outputs": [
        {
          "output_type": "execute_result",
          "data": {
            "text/plain": [
              "tensor(50.)"
            ]
          },
          "metadata": {},
          "execution_count": 22
        }
      ]
    },
    {
      "cell_type": "code",
      "source": [
        "torch.median(x.type(torch.float32))"
      ],
      "metadata": {
        "colab": {
          "base_uri": "https://localhost:8080/"
        },
        "id": "ROOb4Gni4bYG",
        "outputId": "e2f95f46-a4cd-4422-b322-910738f44919"
      },
      "execution_count": null,
      "outputs": [
        {
          "output_type": "execute_result",
          "data": {
            "text/plain": [
              "tensor(45.)"
            ]
          },
          "metadata": {},
          "execution_count": 23
        }
      ]
    },
    {
      "cell_type": "code",
      "source": [
        "torch.argmin(x)"
      ],
      "metadata": {
        "colab": {
          "base_uri": "https://localhost:8080/"
        },
        "id": "VWtiaxGF4bVl",
        "outputId": "0007dbcd-feb0-45e6-9690-da00b3de541b"
      },
      "execution_count": null,
      "outputs": [
        {
          "output_type": "execute_result",
          "data": {
            "text/plain": [
              "tensor(0)"
            ]
          },
          "metadata": {},
          "execution_count": 24
        }
      ]
    },
    {
      "cell_type": "markdown",
      "source": [
        "Reshaping the tensor"
      ],
      "metadata": {
        "id": "17rzIyUDK3JD"
      }
    },
    {
      "cell_type": "code",
      "source": [
        "import torch\n",
        "x = torch.arange(1.,16.)\n",
        "x,x.shape"
      ],
      "metadata": {
        "id": "q7Y8KVEt4bTJ",
        "colab": {
          "base_uri": "https://localhost:8080/"
        },
        "outputId": "395d8c8c-4e16-4c7d-b204-d4e3efd6e921"
      },
      "execution_count": null,
      "outputs": [
        {
          "output_type": "execute_result",
          "data": {
            "text/plain": [
              "(tensor([ 1.,  2.,  3.,  4.,  5.,  6.,  7.,  8.,  9., 10., 11., 12., 13., 14.,\n",
              "         15.]),\n",
              " torch.Size([15]))"
            ]
          },
          "metadata": {},
          "execution_count": 37
        }
      ]
    },
    {
      "cell_type": "code",
      "source": [
        "x_reshaped = x.reshape(1,15)\n",
        "x_reshaped,x_reshaped.shape"
      ],
      "metadata": {
        "id": "SYn6iIhK4bQ7",
        "colab": {
          "base_uri": "https://localhost:8080/"
        },
        "outputId": "6b21573d-f10c-40c9-9e30-a129eed5bf23"
      },
      "execution_count": null,
      "outputs": [
        {
          "output_type": "execute_result",
          "data": {
            "text/plain": [
              "(tensor([[ 1.,  2.,  3.,  4.,  5.,  6.,  7.,  8.,  9., 10., 11., 12., 13., 14.,\n",
              "          15.]]),\n",
              " torch.Size([1, 15]))"
            ]
          },
          "metadata": {},
          "execution_count": 40
        }
      ]
    },
    {
      "cell_type": "code",
      "source": [
        "x_squeez = x_reshaped.squeeze()\n",
        "x_squeez,x_squeez.shape"
      ],
      "metadata": {
        "id": "PAj9yGkL4bOU",
        "colab": {
          "base_uri": "https://localhost:8080/"
        },
        "outputId": "4fecb07b-1dd1-4b51-f8b2-92cf3fa2b446"
      },
      "execution_count": null,
      "outputs": [
        {
          "output_type": "execute_result",
          "data": {
            "text/plain": [
              "(tensor([ 1.,  2.,  3.,  4.,  5.,  6.,  7.,  8.,  9., 10., 11., 12., 13., 14.,\n",
              "         15.]),\n",
              " torch.Size([15]))"
            ]
          },
          "metadata": {},
          "execution_count": 41
        }
      ]
    },
    {
      "cell_type": "code",
      "source": [
        "x_unsqueezed = x_reshaped.unsqueeze(dim=1)\n",
        "x_unsqueezed,x_unsqueezed.shape"
      ],
      "metadata": {
        "id": "6xuQueu24bMB",
        "colab": {
          "base_uri": "https://localhost:8080/"
        },
        "outputId": "8fba6ff5-39ad-4810-8b95-cf66a7139ea0"
      },
      "execution_count": null,
      "outputs": [
        {
          "output_type": "execute_result",
          "data": {
            "text/plain": [
              "(tensor([[[ 1.,  2.,  3.,  4.,  5.,  6.,  7.,  8.,  9., 10., 11., 12., 13., 14.,\n",
              "           15.]]]),\n",
              " torch.Size([1, 1, 15]))"
            ]
          },
          "metadata": {},
          "execution_count": 45
        }
      ]
    },
    {
      "cell_type": "code",
      "source": [
        "x_original = torch.rand(size=(220,224,3))\n",
        "x_original.shape"
      ],
      "metadata": {
        "id": "iDSLFQWN4bJy",
        "colab": {
          "base_uri": "https://localhost:8080/"
        },
        "outputId": "7fcdfa94-1bdd-4066-fb11-73815be7bbc7"
      },
      "execution_count": null,
      "outputs": [
        {
          "output_type": "execute_result",
          "data": {
            "text/plain": [
              "torch.Size([220, 224, 3])"
            ]
          },
          "metadata": {},
          "execution_count": 46
        }
      ]
    },
    {
      "cell_type": "code",
      "source": [
        "x_permuted = x_original.permute(2,0,1)\n",
        "x_permuted.shape"
      ],
      "metadata": {
        "id": "wCzQ79GC-rHy",
        "colab": {
          "base_uri": "https://localhost:8080/"
        },
        "outputId": "c14ed2cc-999e-4033-a300-98ea02168241"
      },
      "execution_count": null,
      "outputs": [
        {
          "output_type": "execute_result",
          "data": {
            "text/plain": [
              "torch.Size([3, 220, 224])"
            ]
          },
          "metadata": {},
          "execution_count": 47
        }
      ]
    },
    {
      "cell_type": "markdown",
      "source": [
        "Indexing to select the data"
      ],
      "metadata": {
        "id": "7y8ry22v-rFM"
      }
    },
    {
      "cell_type": "code",
      "source": [
        "import torch\n",
        "x = torch.arange(1,10).reshape(1,3,3)\n",
        "x,x.shape"
      ],
      "metadata": {
        "id": "E5zwvPja-rCY",
        "colab": {
          "base_uri": "https://localhost:8080/"
        },
        "outputId": "cc2a4bed-65b4-4fb4-f61c-b14a7918bd46"
      },
      "execution_count": null,
      "outputs": [
        {
          "output_type": "execute_result",
          "data": {
            "text/plain": [
              "(tensor([[[1, 2, 3],\n",
              "          [4, 5, 6],\n",
              "          [7, 8, 9]]]),\n",
              " torch.Size([1, 3, 3]))"
            ]
          },
          "metadata": {},
          "execution_count": 1
        }
      ]
    },
    {
      "cell_type": "code",
      "source": [
        "x[0]"
      ],
      "metadata": {
        "id": "oQNCGZQY-q_6",
        "colab": {
          "base_uri": "https://localhost:8080/"
        },
        "outputId": "cdd2c075-30b1-4b46-d589-c2e3039ac766"
      },
      "execution_count": null,
      "outputs": [
        {
          "output_type": "execute_result",
          "data": {
            "text/plain": [
              "tensor([[1, 2, 3],\n",
              "        [4, 5, 6],\n",
              "        [7, 8, 9]])"
            ]
          },
          "metadata": {},
          "execution_count": 2
        }
      ]
    },
    {
      "cell_type": "code",
      "source": [
        "x[0][1][2]"
      ],
      "metadata": {
        "id": "pIfGYxSg-q9n",
        "colab": {
          "base_uri": "https://localhost:8080/"
        },
        "outputId": "42098a64-3f5c-46ca-9f6b-645e0099349d"
      },
      "execution_count": null,
      "outputs": [
        {
          "output_type": "execute_result",
          "data": {
            "text/plain": [
              "tensor(6)"
            ]
          },
          "metadata": {},
          "execution_count": 10
        }
      ]
    },
    {
      "cell_type": "code",
      "source": [
        "x[:,:,1]"
      ],
      "metadata": {
        "id": "VwOluGAE-q7T",
        "colab": {
          "base_uri": "https://localhost:8080/"
        },
        "outputId": "00330b59-7400-448b-e595-f038720509b8"
      },
      "execution_count": null,
      "outputs": [
        {
          "output_type": "execute_result",
          "data": {
            "text/plain": [
              "tensor([[2, 5, 8]])"
            ]
          },
          "metadata": {},
          "execution_count": 15
        }
      ]
    },
    {
      "cell_type": "code",
      "source": [
        "x[0,0,1]"
      ],
      "metadata": {
        "id": "ne0blm-F-q23",
        "colab": {
          "base_uri": "https://localhost:8080/"
        },
        "outputId": "badccdbf-2363-4d72-96aa-3ed9986e1360"
      },
      "execution_count": null,
      "outputs": [
        {
          "output_type": "execute_result",
          "data": {
            "text/plain": [
              "tensor(2)"
            ]
          },
          "metadata": {},
          "execution_count": 17
        }
      ]
    },
    {
      "cell_type": "markdown",
      "source": [
        "Pytorch tensors and Numpy"
      ],
      "metadata": {
        "id": "yRhNYs14K19y"
      }
    },
    {
      "cell_type": "code",
      "source": [
        "import torch\n",
        "import numpy as np\n",
        "\n",
        "array = np.arange(1.0,8.0)\n",
        "tensor = torch.from_numpy(array).type(torch.float32)\n",
        "array,tensor"
      ],
      "metadata": {
        "colab": {
          "base_uri": "https://localhost:8080/"
        },
        "id": "Hv1sHphlK16l",
        "outputId": "7fb3c23f-f0e7-4734-b59e-0861bf78843e"
      },
      "execution_count": null,
      "outputs": [
        {
          "output_type": "execute_result",
          "data": {
            "text/plain": [
              "(array([1., 2., 3., 4., 5., 6., 7.]), tensor([1., 2., 3., 4., 5., 6., 7.]))"
            ]
          },
          "metadata": {},
          "execution_count": 19
        }
      ]
    },
    {
      "cell_type": "markdown",
      "source": [
        "**Reproducibility**"
      ],
      "metadata": {
        "id": "5zmZqsN9gc8J"
      }
    },
    {
      "cell_type": "markdown",
      "source": [
        "To reduce the randomness in NN use random seed"
      ],
      "metadata": {
        "id": "HtAaquwjK12p"
      }
    },
    {
      "cell_type": "code",
      "source": [
        "import torch\n",
        "\n",
        "random_tensor_A = torch.rand(3,5)\n",
        "random_tensor_B = torch.rand(3,5)\n",
        "\n",
        "print(random_tensor_A)\n",
        "print(random_tensor_B)\n",
        "print(random_tensor_A == random_tensor_B)"
      ],
      "metadata": {
        "colab": {
          "base_uri": "https://localhost:8080/"
        },
        "id": "Wilr5Wj3K1z4",
        "outputId": "72085b74-a4dc-4529-b9b4-73a580f070ce"
      },
      "execution_count": null,
      "outputs": [
        {
          "output_type": "stream",
          "name": "stdout",
          "text": [
            "tensor([[0.9003, 0.1196, 0.4900, 0.4450, 0.6570],\n",
            "        [0.6351, 0.6339, 0.9998, 0.2880, 0.9296],\n",
            "        [0.7367, 0.9462, 0.5907, 0.9515, 0.8206]])\n",
            "tensor([[0.0369, 0.4998, 0.1077, 0.6671, 0.4825],\n",
            "        [0.7139, 0.3214, 0.4559, 0.4441, 0.0414],\n",
            "        [0.8941, 0.3374, 0.5624, 0.2973, 0.5836]])\n",
            "tensor([[False, False, False, False, False],\n",
            "        [False, False, False, False, False],\n",
            "        [False, False, False, False, False]])\n"
          ]
        }
      ]
    },
    {
      "cell_type": "code",
      "source": [
        "import torch\n",
        "RANDOM_SEED1 = 50\n",
        "RANDOM_SEED2 = 42\n",
        "torch.manual_seed(RANDOM_SEED1)\n",
        "random_tensor_C = torch.rand(3,5)\n",
        "torch.manual_seed(RANDOM_SEED2)\n",
        "random_tensor_D = torch.rand(3,5)\n",
        "\n",
        "print(random_tensor_C)\n",
        "print(random_tensor_D)\n",
        "print(random_tensor_C == random_tensor_D)"
      ],
      "metadata": {
        "colab": {
          "base_uri": "https://localhost:8080/"
        },
        "id": "khw29NReK1yw",
        "outputId": "2c83f5a5-b774-4659-e954-f7700b9baa90"
      },
      "execution_count": null,
      "outputs": [
        {
          "output_type": "stream",
          "name": "stdout",
          "text": [
            "tensor([[0.6180, 0.0687, 0.3893, 0.0404, 0.4013],\n",
            "        [0.1442, 0.4605, 0.4877, 0.5927, 0.9634],\n",
            "        [0.1230, 0.4048, 0.4985, 0.9987, 0.6049]])\n",
            "tensor([[0.8823, 0.9150, 0.3829, 0.9593, 0.3904],\n",
            "        [0.6009, 0.2566, 0.7936, 0.9408, 0.1332],\n",
            "        [0.9346, 0.5936, 0.8694, 0.5677, 0.7411]])\n",
            "tensor([[False, False, False, False, False],\n",
            "        [False, False, False, False, False],\n",
            "        [False, False, False, False, False]])\n"
          ]
        }
      ]
    },
    {
      "cell_type": "markdown",
      "source": [
        "Chapter 30: Accessing the GPU"
      ],
      "metadata": {
        "id": "SoHFYzFgK1ul"
      }
    },
    {
      "cell_type": "code",
      "source": [
        "!nvidia-smi"
      ],
      "metadata": {
        "colab": {
          "base_uri": "https://localhost:8080/"
        },
        "id": "177MzwYrK1rR",
        "outputId": "fc90f93f-ecd1-4822-b4de-dfd182f6cc43"
      },
      "execution_count": null,
      "outputs": [
        {
          "output_type": "stream",
          "name": "stdout",
          "text": [
            "Wed Apr  2 13:31:18 2025       \n",
            "+-----------------------------------------------------------------------------------------+\n",
            "| NVIDIA-SMI 550.54.15              Driver Version: 550.54.15      CUDA Version: 12.4     |\n",
            "|-----------------------------------------+------------------------+----------------------+\n",
            "| GPU  Name                 Persistence-M | Bus-Id          Disp.A | Volatile Uncorr. ECC |\n",
            "| Fan  Temp   Perf          Pwr:Usage/Cap |           Memory-Usage | GPU-Util  Compute M. |\n",
            "|                                         |                        |               MIG M. |\n",
            "|=========================================+========================+======================|\n",
            "|   0  Tesla T4                       Off |   00000000:00:04.0 Off |                    0 |\n",
            "| N/A   53C    P8              9W /   70W |       0MiB /  15360MiB |      0%      Default |\n",
            "|                                         |                        |                  N/A |\n",
            "+-----------------------------------------+------------------------+----------------------+\n",
            "                                                                                         \n",
            "+-----------------------------------------------------------------------------------------+\n",
            "| Processes:                                                                              |\n",
            "|  GPU   GI   CI        PID   Type   Process name                              GPU Memory |\n",
            "|        ID   ID                                                               Usage      |\n",
            "|=========================================================================================|\n",
            "|  No running processes found                                                             |\n",
            "+-----------------------------------------------------------------------------------------+\n"
          ]
        }
      ]
    },
    {
      "cell_type": "code",
      "source": [
        "##Accessing GPU\n",
        "import torch\n",
        "torch.cuda.is_available()"
      ],
      "metadata": {
        "colab": {
          "base_uri": "https://localhost:8080/"
        },
        "id": "RlxsiaRLK1ok",
        "outputId": "f320e47e-cc62-4cef-b6c1-0f95a4d18518"
      },
      "execution_count": null,
      "outputs": [
        {
          "output_type": "execute_result",
          "data": {
            "text/plain": [
              "True"
            ]
          },
          "metadata": {},
          "execution_count": 1
        }
      ]
    },
    {
      "cell_type": "code",
      "source": [
        "#Setup device agnostic code\n",
        "device = \"cuda\" if torch.cuda.is_available() else \"cpu\"\n",
        "device"
      ],
      "metadata": {
        "colab": {
          "base_uri": "https://localhost:8080/",
          "height": 35
        },
        "id": "0TX4voh8K1ls",
        "outputId": "e47e4507-14a9-41fa-aaa5-bd8e8cdf8eef"
      },
      "execution_count": null,
      "outputs": [
        {
          "output_type": "execute_result",
          "data": {
            "text/plain": [
              "'cuda'"
            ],
            "application/vnd.google.colaboratory.intrinsic+json": {
              "type": "string"
            }
          },
          "metadata": {},
          "execution_count": 2
        }
      ]
    },
    {
      "cell_type": "markdown",
      "source": [
        "**PYTORCH WORKFLOW**\n",
        "\n",
        "1. Go through the depp learning module on Github when in doubt\n",
        "2. Learnpytorch.io"
      ],
      "metadata": {
        "id": "G6kj57leK1hy"
      }
    },
    {
      "cell_type": "code",
      "source": [],
      "metadata": {
        "id": "tE3BivkEK1ep"
      },
      "execution_count": null,
      "outputs": []
    },
    {
      "cell_type": "code",
      "source": [],
      "metadata": {
        "id": "Ev00O9CmK1aE"
      },
      "execution_count": null,
      "outputs": []
    },
    {
      "cell_type": "code",
      "source": [],
      "metadata": {
        "id": "jUhdms2RK1Xo"
      },
      "execution_count": null,
      "outputs": []
    },
    {
      "cell_type": "code",
      "source": [],
      "metadata": {
        "id": "-qTW78YZK1UP"
      },
      "execution_count": null,
      "outputs": []
    },
    {
      "cell_type": "code",
      "source": [],
      "metadata": {
        "id": "FQPRmKscK1RQ"
      },
      "execution_count": null,
      "outputs": []
    },
    {
      "cell_type": "code",
      "source": [],
      "metadata": {
        "id": "7gaEBUU3K1N_"
      },
      "execution_count": null,
      "outputs": []
    },
    {
      "cell_type": "code",
      "source": [],
      "metadata": {
        "id": "FfNxavu2K1Lh"
      },
      "execution_count": null,
      "outputs": []
    },
    {
      "cell_type": "code",
      "source": [],
      "metadata": {
        "id": "1c4iQG-PK1Iw"
      },
      "execution_count": null,
      "outputs": []
    },
    {
      "cell_type": "code",
      "source": [],
      "metadata": {
        "id": "baUXylDEK1Fr"
      },
      "execution_count": null,
      "outputs": []
    },
    {
      "cell_type": "code",
      "source": [],
      "metadata": {
        "id": "vYuDFG7KK1DD"
      },
      "execution_count": null,
      "outputs": []
    },
    {
      "cell_type": "code",
      "source": [],
      "metadata": {
        "id": "6zuOdgokK1AY"
      },
      "execution_count": null,
      "outputs": []
    },
    {
      "cell_type": "code",
      "source": [],
      "metadata": {
        "id": "zscb7sJ2p0EF"
      },
      "execution_count": null,
      "outputs": []
    },
    {
      "cell_type": "code",
      "source": [],
      "metadata": {
        "id": "nOzmUk-Ep0Ab"
      },
      "execution_count": null,
      "outputs": []
    },
    {
      "cell_type": "code",
      "source": [],
      "metadata": {
        "id": "hH6Egt7Rpz9p"
      },
      "execution_count": null,
      "outputs": []
    },
    {
      "cell_type": "code",
      "source": [],
      "metadata": {
        "id": "7Okeu0TDpz6-"
      },
      "execution_count": null,
      "outputs": []
    },
    {
      "cell_type": "code",
      "source": [],
      "metadata": {
        "id": "WMnsX5JEpz4e"
      },
      "execution_count": null,
      "outputs": []
    },
    {
      "cell_type": "code",
      "source": [],
      "metadata": {
        "id": "YRbKOhvipz2E"
      },
      "execution_count": null,
      "outputs": []
    },
    {
      "cell_type": "code",
      "source": [],
      "metadata": {
        "id": "egO21_NtpzzQ"
      },
      "execution_count": null,
      "outputs": []
    },
    {
      "cell_type": "code",
      "source": [],
      "metadata": {
        "id": "W7SLEOIHpzw7"
      },
      "execution_count": null,
      "outputs": []
    },
    {
      "cell_type": "code",
      "source": [],
      "metadata": {
        "id": "3Eyrwifspzuh"
      },
      "execution_count": null,
      "outputs": []
    },
    {
      "cell_type": "code",
      "source": [],
      "metadata": {
        "id": "2GQuMi-MpzsB"
      },
      "execution_count": null,
      "outputs": []
    },
    {
      "cell_type": "code",
      "source": [],
      "metadata": {
        "id": "4NvwIC_Dpzpg"
      },
      "execution_count": null,
      "outputs": []
    },
    {
      "cell_type": "code",
      "source": [],
      "metadata": {
        "id": "ihjH63znpznL"
      },
      "execution_count": null,
      "outputs": []
    },
    {
      "cell_type": "code",
      "source": [],
      "metadata": {
        "id": "guhPJR75pzk9"
      },
      "execution_count": null,
      "outputs": []
    },
    {
      "cell_type": "code",
      "source": [],
      "metadata": {
        "id": "EBJ_hUyGpziN"
      },
      "execution_count": null,
      "outputs": []
    }
  ]
}